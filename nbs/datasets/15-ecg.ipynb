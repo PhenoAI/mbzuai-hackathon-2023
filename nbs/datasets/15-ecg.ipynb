{
 "cells": [
  {
   "cell_type": "raw",
   "id": "9bb73326",
   "metadata": {},
   "source": [
    "---\n",
    "output-file: submission_instructions.html\n",
    "title: Submission instructions\n",
    "\n",
    "---"
   ]
  },
  {
   "cell_type": "markdown",
   "id": "3ef43df1",
   "metadata": {},
   "source": [
    "# 15 - ecg\n",
    "An electrocardiogram (ECG) is a simple test that can be used to check your heart's rhythm and electrical activity. Sensors attached to the skin are used to detect the electrical signals produced by the heart each time it beats.\n",
    "\n",
    "A resting 12-lead ECG is recorded at each visit for participants. The record length is 10 seconds and the sample rate is 1000Hz. We collect both the raw waveform ECG signal from all leads and tabular data. The tabular data are features which have been extracted automatically by the machine from the raw data such as the P wave duration.\n",
    "\n",
    "The information is stored in 2 tabular parquet files: `ecg_main.parquet`, `ecg_qc.parquet`, which contain tabular features and QC checks on the raw ECG waveform data. Mutiple time series parquet files contain the raw and processed ECG waveform data"
   ]
  },
  {
   "cell_type": "code",
   "execution_count": null,
   "id": "b766fa91",
   "metadata": {},
   "outputs": [],
   "source": [
    "#| export\n",
    "\n",
    "from pheno_utils import PhenoLoader"
   ]
  }
 ],
 "metadata": {},
 "nbformat": 4,
 "nbformat_minor": 5
}
