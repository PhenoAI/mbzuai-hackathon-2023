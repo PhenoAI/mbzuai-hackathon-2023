{
 "cells": [
  {
   "cell_type": "raw",
   "id": "743c4b31",
   "metadata": {},
   "source": [
    "---\n",
    "output-file: submission_instructions.html\n",
    "title: Submission instructions\n",
    "\n",
    "---"
   ]
  },
  {
   "cell_type": "markdown",
   "id": "6666207a",
   "metadata": {},
   "source": [
    "# 16 - blood tests\n",
    "\n",
    "The lab tests in this data set of the Human Phenotype Project are based on tests performed to participants in the community as part of their regular medical care at their HMO (Health Maintenance Organization). Participants are asked to upload their blood/urine tests done at their HMOs from previous years. These tests range from the very common CBC and chemistry tests, Vitamins levels to the standard PCRs for infectious diseases all the way to rare tests requiring the user to measure urine for 24h.\n",
    "\n",
    "The information is stored in 1 parquet file `blood_tests.parquet`.\n"
   ]
  },
  {
   "cell_type": "code",
   "execution_count": null,
   "id": "9aae5721",
   "metadata": {},
   "outputs": [],
   "source": [
    "#| export\n",
    "\n",
    "from pheno_utils import PhenoLoader"
   ]
  }
 ],
 "metadata": {},
 "nbformat": 4,
 "nbformat_minor": 5
}
