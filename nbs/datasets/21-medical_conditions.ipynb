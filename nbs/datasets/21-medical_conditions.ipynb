{
 "cells": [
  {
   "cell_type": "raw",
   "id": "85531903",
   "metadata": {},
   "source": [
    "---\n",
    "output-file: submission_instructions.html\n",
    "title: Submission instructions\n",
    "\n",
    "---"
   ]
  },
  {
   "cell_type": "markdown",
   "id": "608f1146",
   "metadata": {},
   "source": [
    "# 21 - medical conditions\n",
    "\n",
    "The The Human Phenotype Project study medical conditions diagnosis data is based on self reported, participant provided information. Self-reported medical diagnosis are coded according to the WHO International Classification of Diseases 11th Revision (ICD-11) codes.\n",
    "\n",
    "The medical conditions diagnosis information collection in the Human Phenotype Project is based on self reporting of conditions either through direct questions on specific conditions in self filled online questionnaires or through self recall of conditions diagnosis in an interview with a research staff member.  \n",
    "\n",
    "The information is stored in 1 parquet file: `medical_conditions.parquet`"
   ]
  },
  {
   "cell_type": "code",
   "execution_count": null,
   "id": "e74c9a6d",
   "metadata": {},
   "outputs": [],
   "source": [
    "#| export\n",
    "\n",
    "from pheno_utils import PhenoLoader"
   ]
  }
 ],
 "metadata": {},
 "nbformat": 4,
 "nbformat_minor": 5
}
