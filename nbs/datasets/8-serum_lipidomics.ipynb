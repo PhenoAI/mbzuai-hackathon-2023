{
 "cells": [
  {
   "cell_type": "raw",
   "id": "a5df9121",
   "metadata": {},
   "source": [
    "---\n",
    "output-file: submission_instructions.html\n",
    "title: Submission instructions\n",
    "\n",
    "---"
   ]
  },
  {
   "cell_type": "markdown",
   "id": "4a1d02c8",
   "metadata": {},
   "source": [
    "# 8 - serum lipidomics\n",
    "\n",
    "High throughput untargeted lipidomics in serum by Ultra-High-Performance Liquid Chromatography Electrospray ionization High-resolution mass spectrometry (UHPLC-ESI-HRMS).\n",
    "\n",
    "The serum metabolome is known to represent a variety of environmental, genetic and other endogenous factors (Bar et al. 2020). Lipidomics is a subfield of metabolomics, which is defined as the study of pathways and networks of cellular lipids in biological systems. Lipids perform various functions within the body, from structural components of cell membranes, to energy reserve and regulating hormones. These pivotal functions highlight circulating lipids as playing a key role in a number of age-related diseases such as cardiovascular disease and stroke (Holmes et al. 2018; Michos et al. 2019). \n",
    "\n",
    "\n",
    "The information is stored in 1 parquet file: `lipidomics.parquet`"
   ]
  },
  {
   "cell_type": "code",
   "execution_count": null,
   "id": "c904d3b9",
   "metadata": {},
   "outputs": [],
   "source": [
    "#| export\n",
    "\n",
    "from pheno_utils import PhenoLoader"
   ]
  }
 ],
 "metadata": {},
 "nbformat": 4,
 "nbformat_minor": 5
}
