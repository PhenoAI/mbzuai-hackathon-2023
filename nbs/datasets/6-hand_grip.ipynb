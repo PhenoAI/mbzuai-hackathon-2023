{
 "cells": [
  {
   "cell_type": "raw",
   "id": "425aeccb",
   "metadata": {},
   "source": [
    "---\n",
    "output-file: submission_instructions.html\n",
    "title: Submission instructions\n",
    "\n",
    "---"
   ]
  },
  {
   "cell_type": "markdown",
   "id": "196b9e24",
   "metadata": {},
   "source": [
    "# 6 - hand grip\n",
    "Hand grip strength (HGS) is an effective marker of general health in middle age and older adulthood. Grip strength is measured by squeezing a type of muscle strength testing equipment, known as a dynamometer.\n",
    "\n",
    "HGS is a measure of the maximum force that an individual can exert with their hand. It is a widely used measure of muscular strength. HGS is an easy and quick measure to obtain.\n",
    "\n",
    "In a clinical setting, HGS is often used as a measure to assess changes in muscle strength over time. For example, in patients with conditions such as osteoarthritis, rheumatoid arthritis, or sarcopenia, Additionally, HGS can be used to assess the effectiveness of rehabilitation programs, such as those used to recover from a stroke or other neurological condition.\n",
    "\n",
    "HGS is measured using a Jamar Hydraulic Hand Dynamometer. The measurement is a measure of the static force (without movement) that the hand can exert when squeezing around the dynamometer.\n",
    "\n",
    "The information is stored in 1 parquet file: `hand_grip.parquet`"
   ]
  },
  {
   "cell_type": "code",
   "execution_count": null,
   "id": "c7c6055b",
   "metadata": {},
   "outputs": [],
   "source": [
    "#| export\n",
    "\n",
    "from pheno_utils import PhenoLoader"
   ]
  }
 ],
 "metadata": {},
 "nbformat": 4,
 "nbformat_minor": 5
}
