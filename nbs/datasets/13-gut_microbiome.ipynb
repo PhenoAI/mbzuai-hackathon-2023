{
 "cells": [
  {
   "cell_type": "markdown",
   "id": "18a5b84a",
   "metadata": {},
   "source": [
    "# 13 - gut microbiome\n",
    "\n",
    "Metagenomics is the study of genetic material from environmental samples, including microbial communities. It involves sequencing the DNA of all microorganisms in the sample, rather than isolating individual organisms. Metagenomics enables the identification and functional analysis of microorganisms in diverse environments, including soil, water, and the human body.\n",
    "\n",
    "This dataset maps out the human gut microbiota per participant via shotgun metagenomic sequencing given stool samples. It is then compared to known references of gut flora to measure prevalence of specific microbes.\n",
    "\n",
    "Gut microbiome metagenomics can be used to identify potential biomarkers of disease, develop personalized treatment strategies, and better understand the complex relationship between the gut microbiota and human physiology. It has already been providing insights into the role of gut microbes in various diseases such as obesity, diabetes and IBD.\n",
    "\n",
    "To measure the genetic makeup of the human gut flora given stool samples via metagenomics, the following steps done:\n",
    "\n",
    "1. Collection of stool sample: For each visit, a stool sample is collected from the individual and stored appropriately to preserve the microbial community.\n",
    "2. DNA extraction: DNA is extracted from the stool sample using specialized techniques to isolate the microbial DNA from other materials present in the sample.\n",
    "3. DNA fragmentation and sequencing: The extracted DNA is then fragmented into small pieces and sequenced using high-throughput sequencing technologies.\n",
    "4. Quality control: The resulting raw sequencing data is then pre-processed, removing low-quality reads and artifacts of the sequencing methodology.\n",
    "5. Taxonomic classification: The processed sequencing data is then compared to databases of known microbial sequences to identify and classify the microbial species presence and their respective abundances in the sample.\n",
    "\n",
    "The information is stored in multiple parquet files:\n",
    "\n",
    "- `metadata`: Sequencing and QC statistics.\n",
    "- `urs`: Segal Lab relative abundance.\n",
    "- `metaphlan_*`: 8 tables with MetaPhlAn 4 relative abundances, separated by taxonomic levels.\n"
   ]
  },
  {
   "cell_type": "code",
   "execution_count": null,
   "id": "8e70b733",
   "metadata": {},
   "outputs": [],
   "source": [
    "#| hide\n",
    "import pandas as pd\n",
    "pd.set_option('display.max_rows', 500)"
   ]
  },
  {
   "cell_type": "code",
   "execution_count": null,
   "id": "0896402e",
   "metadata": {},
   "outputs": [],
   "source": [
    "from pheno_utils import PhenoLoader"
   ]
  },
  {
   "cell_type": "code",
   "execution_count": null,
   "id": "baf7233a",
   "metadata": {},
   "outputs": [],
   "source": [
    "dl = PhenoLoader('gut_microbiome')\n",
    "dl"
   ]
  },
  {
   "cell_type": "code",
   "execution_count": null,
   "id": "d36e6886",
   "metadata": {},
   "outputs": [],
   "source": [
    "dl.dict"
   ]
  }
 ],
 "metadata": {
  "language_info": {
   "name": "python"
  }
 },
 "nbformat": 4,
 "nbformat_minor": 5
}
