{
 "cells": [
  {
   "cell_type": "raw",
   "id": "09ee434b",
   "metadata": {},
   "source": [
    "---\n",
    "output-file: submission_instructions.html\n",
    "title: Submission instructions\n",
    "\n",
    "---"
   ]
  },
  {
   "cell_type": "markdown",
   "id": "e4670dd9",
   "metadata": {},
   "source": [
    "# 17 - cgm\n",
    "\n",
    "Continuous Glucose Monitoring (CGM) measures glucose levels in a continuous manner.  <br>\n",
    "This measure provides information on blood glucose control and glucose variability and could be used to monitor patients with diabetes.\n",
    "\n",
    "Each 14-day continuous measure is termed a single CGM-connection.\n",
    "\n",
    "Using the glucose measured in the CGM connection we can calculate summary features (which was done using the iglu package) summarizing information on glucose control and variability. <br>\n",
    "These were calculated for the entire CGM connection as well as for daily segments of the data.\n",
    "\n",
    "The actual glucose measures are stored in multiple parquet files, each file holds the glucose measures for a single CGM connection. <br>\n",
    "The metadata and summary features are stored in 2 main statistics parquet files: `main.parquet`, `daily_iglu.parquet`."
   ]
  },
  {
   "cell_type": "code",
   "execution_count": null,
   "id": "82175c3c",
   "metadata": {},
   "outputs": [],
   "source": [
    "#| export\n",
    "\n",
    "from pheno_utils import PhenoLoader"
   ]
  }
 ],
 "metadata": {},
 "nbformat": 4,
 "nbformat_minor": 5
}
