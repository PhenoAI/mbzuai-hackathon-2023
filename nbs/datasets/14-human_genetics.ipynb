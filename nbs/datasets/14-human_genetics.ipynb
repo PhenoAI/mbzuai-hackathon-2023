{
 "cells": [
  {
   "cell_type": "raw",
   "id": "abdc74eb",
   "metadata": {},
   "source": [
    "---\n",
    "output-file: submission_instructions.html\n",
    "title: Submission instructions\n",
    "\n",
    "---"
   ]
  },
  {
   "cell_type": "markdown",
   "id": "909a8254",
   "metadata": {},
   "source": [
    "# 14 - human genetics\n",
    "\n",
    "The Human Phenotype Project collects genomic variation data on all its participants. The genomic data together with the Human Phenotype Project  deep-phenotypes allows to investigate the progression of disease, and to explore personalized treatments. We genotype millions of positions by low-pass sequencing combined with imputation using gencove platform technologies. Genotype imputation is a process of statistically inferring unobserved genotypes using known haplotypes in a population. The performance of Gencove genotype imputation is very high ( accuracy > 98% ) (Wasik et al. 2021). \n",
    "\n",
    "The information is stored in a number of statistics parquet files:\n",
    "- `main.parquet`: sample metadata, including QC statistics, paths to PLINK variant files (raw and post-QC), and principal components (PCs).\n",
    "- `variant_qc.parquet`: variant QC statistics.\n",
    "- `relatives/plink_ibs.parquet`: IBS calculated by PLINK for pairs of participants.\n",
    "- `relatives/king_kinship.parquet`: King kinship coefficients for pairs of participants.\n",
    "\n",
    "And a PLINK text file `pca/eigenvec.var` containing the principal component loadings."
   ]
  },
  {
   "cell_type": "code",
   "execution_count": null,
   "id": "4f3a3872",
   "metadata": {},
   "outputs": [],
   "source": [
    "#| export\n",
    "\n",
    "from pheno_utils import PhenoLoader"
   ]
  }
 ],
 "metadata": {},
 "nbformat": 4,
 "nbformat_minor": 5
}
