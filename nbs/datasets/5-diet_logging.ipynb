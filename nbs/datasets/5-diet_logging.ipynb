{
 "cells": [
  {
   "cell_type": "raw",
   "id": "d270e4bf",
   "metadata": {},
   "source": [
    "---\n",
    "output-file: 5-diet_logging.html\n",
    "title: diet_logging\n",
    "\n",
    "---"
   ]
  },
  {
   "cell_type": "markdown",
   "id": "b6ca3471",
   "metadata": {},
   "source": [
    "# 5 - diet logging\n",
    "\n",
    "Diet logging using a smartphone app involves collecting data on food and drink consumption through a mobile application. These data include information such as types of food, serving sizes, nutritional information and the times of consumption. The data is used to track dietary habits and can be used in scientific research to gain insights into the dietary habits of a population and to correlate to other temporal measurements and events.\n",
    "\n",
    "The information is stored in 2 parquet file: `diet_logging.parquet`, `raw_diet_logging.parquet` which contain the processed and raw diet logging data respectively."
   ]
  },
  {
   "cell_type": "code",
   "execution_count": 1,
   "id": "fa4e82a5",
   "metadata": {},
   "outputs": [],
   "source": [
    "#| hide\n",
    "import pandas as pd\n",
    "pd.set_option('display.max_rows', 500)"
   ]
  },
  {
   "cell_type": "code",
   "execution_count": 2,
   "id": "e4165ec1",
   "metadata": {},
   "outputs": [],
   "source": [
    "from pheno_utils import PhenoLoader"
   ]
  },
  {
   "cell_type": "code",
   "execution_count": 3,
   "id": "0f54b1a1",
   "metadata": {},
   "outputs": [],
   "source": [
    "dl = PhenoLoader('diet_logging', unique_index=False)\n",
    "dl"
   ]
  },
  {
   "cell_type": "code",
   "execution_count": null,
   "id": "43cba9d9",
   "metadata": {},
   "outputs": [],
   "source": [
    "dl.dict"
   ]
  }
 ],
 "metadata": {
  "kernelspec": {
   "display_name": "base",
   "language": "python",
   "name": "python3"
  },
  "language_info": {
   "codemirror_mode": {
    "name": "ipython",
    "version": 3
   },
   "file_extension": ".py",
   "mimetype": "text/x-python",
   "name": "python",
   "nbconvert_exporter": "python",
   "pygments_lexer": "ipython3",
   "version": "3.10.10"
  }
 },
 "nbformat": 4,
 "nbformat_minor": 5
}
