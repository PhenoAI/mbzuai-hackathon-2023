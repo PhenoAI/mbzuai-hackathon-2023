{
 "cells": [
  {
   "cell_type": "raw",
   "id": "28f48bb1",
   "metadata": {},
   "source": [
    "---\n",
    "output-file: submission_instructions.html\n",
    "title: Submission instructions\n",
    "\n",
    "---"
   ]
  },
  {
   "cell_type": "markdown",
   "id": "ee57930a",
   "metadata": {},
   "source": [
    "# 5 - diet logging\n",
    "\n",
    "Diet logging using a smartphone app involves collecting data on food and drink consumption through a mobile application. These data include information such as types of food, serving sizes, nutritional information and the times of consumption. The data is used to track dietary habits and can be used in scientific research to gain insights into the dietary habits of a population and to correlate to other temporal measurements and events.\n",
    "\n",
    "The information is stored in 2 parquet file: `diet_logging.parquet`, `raw_diet_logging.parquet` which contain the processed and raw diet logging data respectively."
   ]
  },
  {
   "cell_type": "code",
   "execution_count": null,
   "id": "25336fbd",
   "metadata": {},
   "outputs": [],
   "source": [
    "#| export\n",
    "\n",
    "from pheno_utils import PhenoLoader"
   ]
  }
 ],
 "metadata": {},
 "nbformat": 4,
 "nbformat_minor": 5
}
