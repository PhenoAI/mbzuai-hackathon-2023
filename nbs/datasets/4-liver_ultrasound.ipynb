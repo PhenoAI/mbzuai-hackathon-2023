{
 "cells": [
  {
   "cell_type": "raw",
   "id": "93aebf1a",
   "metadata": {},
   "source": [
    "---\n",
    "output-file: submission_instructions.html\n",
    "title: Submission instructions\n",
    "\n",
    "---"
   ]
  },
  {
   "cell_type": "markdown",
   "id": "99cb7b81",
   "metadata": {},
   "source": [
    "# 4 - liver ultrasound\n",
    "\n",
    "Liver ultrasound was performed using the Supersonic Aixplorer MACH 30 (Hologic, USA).  The Supersonic Imagine Aixplorer is an ultrasound device that is able to measure the liver's stiffness, viscosity, attenuation and sound speed to diagnose and monitor liver conditions such as steatosis, fibrosis and inflammation. The device uses several ultrasound-based measures, including Speed of Sound (SSp.PLUS), Attenuation Index (Att.PLUS), Viscosity (Vi.PLUS) and Elasticity (Two-Dimensional ShareWave Elastography (2D-SWE)) to evaluate the liver and improve diagnosis performance. These measurements have been shown to be correlated to different stages of liver conditions.\n",
    "\n",
    "Ultrasound-based liver measurements were performed using ShearWave Elastography (2D- SWE.PLUS) for elasticity assessment, sound speed Plane-wave ultrasound and attenuation. Plane-wave ultrasound was measured for assessment of liver steatosis (fatness) and viscosity plane-wave ultrasound for assessment of viscosity as a marker of inflammation. Measurements were performed with a C6-1X convex transducer using the UltraFast software available on the Mach 30 ultrasound system. US images of the liver were also saved.\n",
    "\n",
    "Measurement protocol: All patients were examined in supine position, with the right arm elevated above the head, by an intercostal approach, in the right liver lobe. Acquisitions were performed during neutral respiratory apnea. Initially the Attenuation and Speed of Sound were measured from a homogeneous area of the liver parenchyma free of vessels or other structures. Measurements were performed from 3 different liver regions. 2D-SWE and viscosity were then measured from 3 different locations in an area of relative uniform elasticity, at a depth of 3–5 cm using stability index tool (SI) derived from the spatial and temporal stiffness stability at a stability index >90%. \n",
    "\n",
    "\n",
    "The information is stored in 1 parquet file: `liver_us.parquet`"
   ]
  },
  {
   "cell_type": "code",
   "execution_count": null,
   "id": "5cbcfd11",
   "metadata": {},
   "outputs": [],
   "source": [
    "#| export\n",
    "\n",
    "from pheno_utils import PhenoLoader"
   ]
  }
 ],
 "metadata": {},
 "nbformat": 4,
 "nbformat_minor": 5
}
