{
 "cells": [
  {
   "cell_type": "code",
   "execution_count": 9,
   "metadata": {},
   "outputs": [],
   "source": [
    "import pandas as pd\n",
    "from IPython.display import Markdown\n",
    "import os"
   ]
  },
  {
   "cell_type": "code",
   "execution_count": 10,
   "metadata": {},
   "outputs": [],
   "source": [
    "schedule_data = [\n",
    "    {\"Day\": 1, \"Time\": \"09:00\", \"Event\": \"Registration and coffee\"},\n",
    "    {\"Day\": 1, \"Time\": \"10:00\", \"Event\": \"Opening ceremony and keynote speech\"},\n",
    "    {\"Day\": 1, \"Time\": \"10:30\", \"Event\": \"Platform onboarding\"},\n",
    "    {\"Day\": 1, \"Time\": \"10:45\", \"Event\": \"Mentor presentations (datasets intro)\"},\n",
    "    {\"Day\": 1, \"Time\": \"11:30\", \"Event\": \"Kickoff teamwork begins\"},\n",
    "    {\"Day\": 1, \"Time\": \"12:30\", \"Event\": \"Lunch\"},\n",
    "    {\"Day\": 1, \"Time\": \"13:30\", \"Event\": \"Check-ins and mentorship group meetings\"},\n",
    "    {\"Day\": 1, \"Time\": \"17:30\", \"Event\": \"Leaderboard submission\"},\n",
    "    {\"Day\": 1, \"Time\": \"18:00\", \"Event\": \"Dinner\"},\n",
    "    {\"Day\": 1, \"Time\": \"19:00\", \"Event\": \"Work continues\"},\n",
    "    {\"Day\": 2, \"Time\": \"07:30\", \"Event\": \"Leaderboard submission\"},\n",
    "    {\"Day\": 2, \"Time\": \"08:00\", \"Event\": \"Breakfast and final check-ins\"},\n",
    "    {\"Day\": 2, \"Time\": \"10:30\", \"Event\": \"Project submission deadline\"},\n",
    "    {\"Day\": 2, \"Time\": \"11:00\", \"Event\": \"Team presentations\"},\n",
    "    {\"Day\": 2, \"Time\": \"13:00\", \"Event\": \"Lunch and Judging\"},\n",
    "    {\"Day\": 2, \"Time\": \"15:00\", \"Event\": \"Awards ceremony and closing remarks\"},\n",
    "]"
   ]
  },
  {
   "cell_type": "code",
   "execution_count": 11,
   "metadata": {},
   "outputs": [
    {
     "data": {
      "text/markdown": [
       "|   Day | Time   | Event                                   |\n",
       "|------:|:-------|:----------------------------------------|\n",
       "|     1 | 09:00  | Registration and coffee                 |\n",
       "|     1 | 10:00  | Opening ceremony and keynote speech     |\n",
       "|     1 | 10:30  | Platform onboarding                     |\n",
       "|     1 | 10:45  | Mentor presentations (datasets intro)   |\n",
       "|     1 | 11:30  | Kickoff teamwork begins                 |\n",
       "|     1 | 12:30  | Lunch                                   |\n",
       "|     1 | 13:30  | Check-ins and mentorship group meetings |\n",
       "|     1 | 17:30  | Leaderboard submission                  |\n",
       "|     1 | 18:00  | Dinner                                  |\n",
       "|     1 | 19:00  | Work continues                          |\n",
       "|     2 | 07:30  | Leaderboard submission                  |\n",
       "|     2 | 08:00  | Breakfast and final check-ins           |\n",
       "|     2 | 10:30  | Project submission deadline             |\n",
       "|     2 | 11:00  | Team presentations                      |\n",
       "|     2 | 13:00  | Lunch and Judging                       |\n",
       "|     2 | 15:00  | Awards ceremony and closing remarks     |"
      ],
      "text/plain": [
       "<IPython.core.display.Markdown object>"
      ]
     },
     "metadata": {},
     "output_type": "display_data"
    }
   ],
   "source": [
    "schedule_df = pd.DataFrame(schedule_data)\n",
    "\n",
    "# Convert the DataFrame to a markdown table\n",
    "markdown_table = schedule_df.to_markdown(index=False)\n",
    "\n",
    "# Display the markdown table\n",
    "display(Markdown(markdown_table))"
   ]
  },
  {
   "cell_type": "code",
   "execution_count": 12,
   "metadata": {},
   "outputs": [],
   "source": [
    "# Save to schedule.md\n",
    "path = 'schedule.md'\n",
    "\n",
    "if os.path.isfile(path):\n",
    "    with open(path, 'w') as f:\n",
    "        f.truncate(0)  # Erase the contents of the file\n",
    "else:\n",
    "    open(path, 'a').close()  # Create an empty file\n",
    "\n",
    "with open(path, 'a') as f:\n",
    "    f.write('# Schedule\\n\\n')  # Markdown title\n",
    "    f.write(\"The The Human Phenotype Project MBZUAI Hackathon 2023\\n\")\n",
    "    f.write(markdown_table)  # Markdown table"
   ]
  }
 ],
 "metadata": {
  "kernelspec": {
   "display_name": "base",
   "language": "python",
   "name": "python3"
  },
  "language_info": {
   "codemirror_mode": {
    "name": "ipython",
    "version": 3
   },
   "file_extension": ".py",
   "mimetype": "text/x-python",
   "name": "python",
   "nbconvert_exporter": "python",
   "pygments_lexer": "ipython3",
   "version": "3.10.10"
  },
  "orig_nbformat": 4
 },
 "nbformat": 4,
 "nbformat_minor": 2
}
