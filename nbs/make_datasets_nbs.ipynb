{
 "cells": [
  {
   "cell_type": "code",
   "execution_count": 1,
   "metadata": {},
   "outputs": [
    {
     "data": {
      "application/vnd.jupyter.widget-view+json": {
       "model_id": "a531d5bd4ae648e98b3ae84bce0f5fcf",
       "version_major": 2,
       "version_minor": 0
      },
      "text/plain": [
       "Processing files:   0%|          | 0/38 [00:00<?, ?it/s]"
      ]
     },
     "metadata": {},
     "output_type": "display_data"
    },
    {
     "name": "stdout",
     "output_type": "stream",
     "text": [
      "Processing 1-population.md...\n",
      "Created 1-population.ipynb successfully.\n",
      "Executed 1-population.ipynb successfully.\n",
      "\n",
      "\n",
      "Processing 10-vascular.md...\n",
      "Created 10-vascular.ipynb successfully.\n",
      "Executed 10-vascular.ipynb successfully.\n",
      "\n",
      "\n",
      "Processing 11-body_composition.md...\n",
      "Created 11-body_composition.ipynb successfully.\n",
      "Executed 11-body_composition.ipynb successfully.\n",
      "\n",
      "\n",
      "Processing 12-carotid_ultrasound.md...\n",
      "Created 12-carotid_ultrasound.ipynb successfully.\n",
      "Executed 12-carotid_ultrasound.ipynb successfully.\n",
      "\n",
      "\n",
      "Processing 13-gut_microbiome.md...\n",
      "Created 13-gut_microbiome.ipynb successfully.\n"
     ]
    }
   ],
   "source": [
    "import os\n",
    "import nbformat as nbf\n",
    "from nbconvert.preprocessors import ExecutePreprocessor\n",
    "from tqdm.notebook import tqdm\n",
    "\n",
    "# Set your datasets folder path\n",
    "datasets_folder = \"datasets\"\n",
    "\n",
    "# Loop through the markdown files in the folder\n",
    "for md_file in tqdm(os.listdir(datasets_folder), desc=\"Processing files\"):\n",
    "    if md_file.endswith(\".md\"):\n",
    "        print(f\"Processing {md_file}...\")\n",
    "        file_number, dataset_name = md_file[:-3].split(\"-\")\n",
    "        \n",
    "        # Create a new Jupyter Notebook file name\n",
    "        ipynb_file = f\"{file_number}-{dataset_name}.ipynb\"\n",
    "        \n",
    "        # Read the contents of the markdown file\n",
    "        with open(os.path.join(datasets_folder, md_file), \"r\") as f:\n",
    "            md_content = f.read()\n",
    "\n",
    "        # Create a new Jupyter Notebook\n",
    "        nb = nbf.v4.new_notebook()\n",
    "\n",
    "        # Create the cells\n",
    "        cell1 = nbf.v4.new_raw_cell(\n",
    "            f\"---\\noutput-file: {file_number}-{dataset_name}.html\\ntitle: {dataset_name}\\n\\n---\"\n",
    "        )\n",
    "        cell2 = nbf.v4.new_markdown_cell(md_content)\n",
    "        cell3 = nbf.v4.new_code_cell(\"#| hide\\nimport pandas as pd\\npd.set_option('display.max_rows', 500)\")\n",
    "        cell4= nbf.v4.new_code_cell(\"from pheno_utils import PhenoLoader\")\n",
    "        cell5 = nbf.v4.new_code_cell(f\"dl = PhenoLoader('{dataset_name}')\\ndl\")\n",
    "        cell6 = nbf.v4.new_code_cell(\"dl.dict\")\n",
    "         \n",
    "\n",
    "        # Add the cells to the notebook\n",
    "        nb.cells = [cell1, cell2, cell3, cell4, cell5, cell6]\n",
    "\n",
    "        # Write the notebook to a file\n",
    "        with open(os.path.join(datasets_folder, ipynb_file), \"w\") as f:\n",
    "            nbf.write(nb, f)\n",
    "        \n",
    "        print(f\"Created {ipynb_file} successfully.\")\n",
    "\n",
    "        # Execute the generated notebook\n",
    "        with open(os.path.join(datasets_folder, ipynb_file), \"r\") as f:\n",
    "            notebook = nbf.read(f, as_version=4)\n",
    "\n",
    "        ep = ExecutePreprocessor(timeout=600)\n",
    "        ep.preprocess(notebook, {\"metadata\": {\"path\": datasets_folder}})\n",
    "\n",
    "        # Save the executed notebook\n",
    "        with open(os.path.join(datasets_folder, ipynb_file), \"w\") as f:\n",
    "            nbf.write(notebook, f)\n",
    "        print(f\"Executed {ipynb_file} successfully.\\n\\n\")\n",
    "\n",
    "print(\"Jupyter Notebooks created and executed successfully.\")\n"
   ]
  },
  {
   "cell_type": "code",
   "execution_count": null,
   "metadata": {},
   "outputs": [],
   "source": []
  }
 ],
 "metadata": {
  "kernelspec": {
   "display_name": "base",
   "language": "python",
   "name": "python3"
  },
  "language_info": {
   "codemirror_mode": {
    "name": "ipython",
    "version": 3
   },
   "file_extension": ".py",
   "mimetype": "text/x-python",
   "name": "python",
   "nbconvert_exporter": "python",
   "pygments_lexer": "ipython3",
   "version": "3.10.10"
  },
  "orig_nbformat": 4
 },
 "nbformat": 4,
 "nbformat_minor": 2
}
