{
 "cells": [
  {
   "cell_type": "code",
   "execution_count": null,
   "metadata": {},
   "outputs": [],
   "source": [
    "#| hide\n",
    "from IPython.display import IFrame, Image, HTML"
   ]
  },
  {
   "cell_type": "markdown",
   "metadata": {},
   "source": [
    "# HPP Hackathon"
   ]
  },
  {
   "attachments": {},
   "cell_type": "markdown",
   "metadata": {},
   "source": [
    "## Event kickoff:"
   ]
  },
  {
   "cell_type": "code",
   "execution_count": null,
   "metadata": {},
   "outputs": [
    {
     "data": {
      "text/html": [
       "\n",
       "        <iframe\n",
       "            width=\"576\"\n",
       "            height=\"243\"\n",
       "            src=\"https://free.timeanddate.com/countdown/i8toxb4r/n2/cf100/cm0/cu4/ct0/cs0/ca0/co0/cr0/ss0/cac000/cpc000/pcfff/tcfff/fs400/szw576/szh243/iso2023-05-02T11:30:00\"\n",
       "            frameborder=\"0\"\n",
       "            allowfullscreen\n",
       "            \n",
       "        ></iframe>\n",
       "        "
      ],
      "text/plain": [
       "<IPython.lib.display.IFrame>"
      ]
     },
     "execution_count": null,
     "metadata": {},
     "output_type": "execute_result"
    }
   ],
   "source": [
    "#|echo: false\n",
    "\n",
    "url = \"https://free.timeanddate.com/countdown/i8toxb4r/n2/cf100/cm0/cu4/ct0/cs0/ca0/co0/cr0/ss0/cac000/cpc000/pcfff/tcfff/fs400/szw576/szh243/iso2023-05-02T11:30:00\"\n",
    "width = 576\n",
    "height = 243\n",
    "\n",
    "IFrame(url, width=width, height=height)"
   ]
  },
  {
   "attachments": {},
   "cell_type": "markdown",
   "metadata": {},
   "source": [
    "The HPP 2023 Hackathon is a two-day event that unites students, researchers, professionals, and industry experts to create innovative solutions addressing the challenges in personalized and predictive analytics within healthcare. This hackathon concentrates on employing cutting-edge deep phenotype data to develop novel models for disease prediction and prevention."
   ]
  },
  {
   "cell_type": "code",
   "execution_count": null,
   "metadata": {},
   "outputs": [
    {
     "data": {
      "text/html": [
       "\n",
       "    <img src='./logos/pheno_logo.png' style='height:100px; margin-right: 10px'>\n",
       "    <img src='./logos/mbzuai_logo.jpeg' style='height:100px; margin-right: 10px'>\n",
       "    <img src='./logos/weizmann_logo.jpeg' style='height:100px'>\n"
      ],
      "text/plain": [
       "<IPython.core.display.HTML object>"
      ]
     },
     "metadata": {},
     "output_type": "display_data"
    }
   ],
   "source": [
    "#|echo: false\n",
    "\n",
    "desired_height = 100  # adjust this value as needed\n",
    "\n",
    "# Replace 'logo1.png', 'logo2.png', and 'logo3.png' with your image file names or URLs\n",
    "html_str = f\"\"\"\n",
    "    <img src='./logos/pheno_logo.png' style='height:{desired_height}px; margin-right: 10px'>\n",
    "    <img src='./logos/mbzuai_logo.jpeg' style='height:{desired_height}px; margin-right: 10px'>\n",
    "    <img src='./logos/weizmann_logo.jpeg' style='height:{desired_height}px'>\n",
    "\"\"\"\n",
    "\n",
    "display(HTML(html_str))\n"
   ]
  },
  {
   "attachments": {},
   "cell_type": "markdown",
   "metadata": {},
   "source": [
    "### For any questions or help please contact: [support@pheno.ai](support@pheno.ai)"
   ]
  }
 ],
 "metadata": {
  "kernelspec": {
   "display_name": "python3",
   "language": "python",
   "name": "python3"
  }
 },
 "nbformat": 4,
 "nbformat_minor": 4
}
