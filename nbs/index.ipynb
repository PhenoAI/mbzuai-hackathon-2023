{
 "cells": [
  {
   "cell_type": "code",
   "execution_count": 1,
   "metadata": {},
   "outputs": [],
   "source": [
    "#| hide\n",
    "from IPython.display import IFrame, Image, HTML"
   ]
  },
  {
   "cell_type": "markdown",
   "metadata": {},
   "source": [
    "# HPP Hackathon"
   ]
  },
  {
   "attachments": {},
   "cell_type": "markdown",
   "metadata": {},
   "source": [
    "## Deadline for final submission (predictive challenge and creative challenge)  \n",
    "\n",
    "- For predictive challenge make sure that the submission file is saved as `group_1__test_final.csv`\n",
    "where \"group_1\" should be your group number. Submit by by 10:30.  \n",
    "\n",
    "- Creative challenge presentations should be sent to assaf@pheno.ai also by 10:30. Use the following template for your presentation: [Presentation template slides](https://docs.google.com/presentation/d/1MXjvLig6ZIgN-6RLjk2FamO4y-XHLNRH/edit?usp=share_link&ouid=117022341077434935776&rtpof=true&sd=true).  \n",
    "The presentation should take 6-8 minutes. And another 2 minutes will be given at the end for any questions.  \n"
   ]
  },
  {
   "cell_type": "code",
   "execution_count": 2,
   "metadata": {},
   "outputs": [
    {
     "data": {
      "text/html": [
       "\n",
       "        <iframe\n",
       "            width=\"576\"\n",
       "            height=\"243\"\n",
       "            src=\"https://free.timeanddate.com/countdown/i8toxb4r/n2/cf100/cm0/cu4/ct0/cs0/ca0/co0/cr0/ss0/cac000/cpc000/pcfff/tcfff/fs400/szw576/szh243/iso2023-05-03T10:30:00\"\n",
       "            frameborder=\"0\"\n",
       "            allowfullscreen\n",
       "            \n",
       "        ></iframe>\n",
       "        "
      ],
      "text/plain": [
       "<IPython.lib.display.IFrame at 0xffff9cd628f0>"
      ]
     },
     "execution_count": 2,
     "metadata": {},
     "output_type": "execute_result"
    }
   ],
   "source": [
    "#|echo: false\n",
    "\n",
    "url = \"https://free.timeanddate.com/countdown/i8toxb4r/n2/cf100/cm0/cu4/ct0/cs0/ca0/co0/cr0/ss0/cac000/cpc000/pcfff/tcfff/fs400/szw576/szh243/iso2023-05-03T10:30:00\"\n",
    "width = 576\n",
    "height = 243\n",
    "\n",
    "IFrame(url, width=width, height=height)"
   ]
  },
  {
   "attachments": {},
   "cell_type": "markdown",
   "metadata": {},
   "source": [
    "The HPP 2023 Hackathon is a two-day event that unites students, researchers, professionals, and industry experts to create innovative solutions addressing the challenges in personalized and predictive analytics within healthcare. This hackathon concentrates on employing cutting-edge deep phenotype data to develop novel models for disease prediction and prevention."
   ]
  },
  {
   "cell_type": "code",
   "execution_count": 3,
   "metadata": {},
   "outputs": [
    {
     "data": {
      "text/html": [
       "\n",
       "    <img src='./logos/pheno_logo.png' style='height:100px; margin-right: 10px'>\n",
       "    <img src='./logos/mbzuai_logo.jpeg' style='height:100px; margin-right: 10px'>\n",
       "    <img src='./logos/weizmann_logo.jpeg' style='height:100px'>\n"
      ],
      "text/plain": [
       "<IPython.core.display.HTML object>"
      ]
     },
     "metadata": {},
     "output_type": "display_data"
    }
   ],
   "source": [
    "#|echo: false\n",
    "\n",
    "desired_height = 100  # adjust this value as needed\n",
    "\n",
    "# Replace 'logo1.png', 'logo2.png', and 'logo3.png' with your image file names or URLs\n",
    "html_str = f\"\"\"\n",
    "    <img src='./logos/pheno_logo.png' style='height:{desired_height}px; margin-right: 10px'>\n",
    "    <img src='./logos/mbzuai_logo.jpeg' style='height:{desired_height}px; margin-right: 10px'>\n",
    "    <img src='./logos/weizmann_logo.jpeg' style='height:{desired_height}px'>\n",
    "\"\"\"\n",
    "\n",
    "display(HTML(html_str))\n"
   ]
  },
  {
   "attachments": {},
   "cell_type": "markdown",
   "metadata": {},
   "source": [
    "### For any questions or help please contact: [support@pheno.ai](support@pheno.ai)"
   ]
  }
 ],
 "metadata": {
  "kernelspec": {
   "display_name": "python3",
   "language": "python",
   "name": "python3"
  },
  "language_info": {
   "codemirror_mode": {
    "name": "ipython",
    "version": 3
   },
   "file_extension": ".py",
   "mimetype": "text/x-python",
   "name": "python",
   "nbconvert_exporter": "python",
   "pygments_lexer": "ipython3",
   "version": "3.10.10"
  }
 },
 "nbformat": 4,
 "nbformat_minor": 4
}
